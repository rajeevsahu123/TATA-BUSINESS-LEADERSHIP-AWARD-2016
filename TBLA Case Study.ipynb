{
 "cells": [
  {
   "cell_type": "code",
   "execution_count": 2,
   "metadata": {
    "collapsed": false
   },
   "outputs": [
    {
     "name": "stdout",
     "output_type": "stream",
     "text": [
      "Populating the interactive namespace from numpy and matplotlib\n"
     ]
    }
   ],
   "source": [
    "%pylab inline\n",
    "import matplotlib.pyplot as plt\n",
    "import pandas as pd\n",
    "import numpy as np\n",
    "from pandas import Series, DataFrame"
   ]
  },
  {
   "cell_type": "code",
   "execution_count": 3,
   "metadata": {
    "collapsed": false
   },
   "outputs": [],
   "source": [
    "df = pd.read_csv('TBLA_CASE.csv')"
   ]
  },
  {
   "cell_type": "code",
   "execution_count": 4,
   "metadata": {
    "collapsed": false
   },
   "outputs": [
    {
     "name": "stderr",
     "output_type": "stream",
     "text": [
      "C:\\Program Files\\Anaconda2\\lib\\site-packages\\numpy\\lib\\function_base.py:3834: RuntimeWarning: Invalid value encountered in percentile\n",
      "  RuntimeWarning)\n"
     ]
    },
    {
     "data": {
      "text/html": [
       "<div>\n",
       "<table border=\"1\" class=\"dataframe\">\n",
       "  <thead>\n",
       "    <tr style=\"text-align: right;\">\n",
       "      <th></th>\n",
       "      <th>count</th>\n",
       "      <th>mean</th>\n",
       "      <th>std</th>\n",
       "      <th>min</th>\n",
       "      <th>25%</th>\n",
       "      <th>50%</th>\n",
       "      <th>75%</th>\n",
       "      <th>max</th>\n",
       "    </tr>\n",
       "  </thead>\n",
       "  <tbody>\n",
       "    <tr>\n",
       "      <th>DEL_NO</th>\n",
       "      <td>71097.0</td>\n",
       "      <td>35549.000000</td>\n",
       "      <td>20524.080381</td>\n",
       "      <td>1.0</td>\n",
       "      <td>17775.0</td>\n",
       "      <td>35549.0</td>\n",
       "      <td>53323.0</td>\n",
       "      <td>71097.0</td>\n",
       "    </tr>\n",
       "    <tr>\n",
       "      <th>DataRevenue_JAN</th>\n",
       "      <td>43095.0</td>\n",
       "      <td>130.230073</td>\n",
       "      <td>172.342203</td>\n",
       "      <td>0.0</td>\n",
       "      <td>NaN</td>\n",
       "      <td>NaN</td>\n",
       "      <td>NaN</td>\n",
       "      <td>3680.0</td>\n",
       "    </tr>\n",
       "    <tr>\n",
       "      <th>DataRevenue_FEB</th>\n",
       "      <td>49122.0</td>\n",
       "      <td>114.931456</td>\n",
       "      <td>160.012812</td>\n",
       "      <td>0.0</td>\n",
       "      <td>NaN</td>\n",
       "      <td>NaN</td>\n",
       "      <td>NaN</td>\n",
       "      <td>4415.0</td>\n",
       "    </tr>\n",
       "    <tr>\n",
       "      <th>DataRevenue_MAR</th>\n",
       "      <td>51815.0</td>\n",
       "      <td>125.420284</td>\n",
       "      <td>177.648049</td>\n",
       "      <td>0.0</td>\n",
       "      <td>NaN</td>\n",
       "      <td>NaN</td>\n",
       "      <td>NaN</td>\n",
       "      <td>5991.0</td>\n",
       "    </tr>\n",
       "    <tr>\n",
       "      <th>DataRevenue_APR</th>\n",
       "      <td>52166.0</td>\n",
       "      <td>126.965456</td>\n",
       "      <td>175.286359</td>\n",
       "      <td>0.0</td>\n",
       "      <td>NaN</td>\n",
       "      <td>NaN</td>\n",
       "      <td>NaN</td>\n",
       "      <td>6966.0</td>\n",
       "    </tr>\n",
       "    <tr>\n",
       "      <th>DataRevenue_May</th>\n",
       "      <td>51976.0</td>\n",
       "      <td>127.636890</td>\n",
       "      <td>180.626263</td>\n",
       "      <td>0.0</td>\n",
       "      <td>NaN</td>\n",
       "      <td>NaN</td>\n",
       "      <td>NaN</td>\n",
       "      <td>8910.0</td>\n",
       "    </tr>\n",
       "    <tr>\n",
       "      <th>DataUsageMB_JAN</th>\n",
       "      <td>43095.0</td>\n",
       "      <td>823.251073</td>\n",
       "      <td>1293.189090</td>\n",
       "      <td>0.0</td>\n",
       "      <td>NaN</td>\n",
       "      <td>NaN</td>\n",
       "      <td>NaN</td>\n",
       "      <td>45132.0</td>\n",
       "    </tr>\n",
       "    <tr>\n",
       "      <th>DataUsageMB_FEB</th>\n",
       "      <td>49122.0</td>\n",
       "      <td>739.291947</td>\n",
       "      <td>1151.514743</td>\n",
       "      <td>0.0</td>\n",
       "      <td>NaN</td>\n",
       "      <td>NaN</td>\n",
       "      <td>NaN</td>\n",
       "      <td>47479.0</td>\n",
       "    </tr>\n",
       "    <tr>\n",
       "      <th>DataUsageMB_MAR</th>\n",
       "      <td>51815.0</td>\n",
       "      <td>807.447901</td>\n",
       "      <td>1261.087031</td>\n",
       "      <td>0.0</td>\n",
       "      <td>NaN</td>\n",
       "      <td>NaN</td>\n",
       "      <td>NaN</td>\n",
       "      <td>46362.0</td>\n",
       "    </tr>\n",
       "    <tr>\n",
       "      <th>DataUsageMB_APR</th>\n",
       "      <td>52166.0</td>\n",
       "      <td>792.812004</td>\n",
       "      <td>1284.582859</td>\n",
       "      <td>0.0</td>\n",
       "      <td>NaN</td>\n",
       "      <td>NaN</td>\n",
       "      <td>NaN</td>\n",
       "      <td>58451.0</td>\n",
       "    </tr>\n",
       "    <tr>\n",
       "      <th>DataUsageMB_May</th>\n",
       "      <td>51976.0</td>\n",
       "      <td>817.985032</td>\n",
       "      <td>1338.030923</td>\n",
       "      <td>0.0</td>\n",
       "      <td>NaN</td>\n",
       "      <td>NaN</td>\n",
       "      <td>NaN</td>\n",
       "      <td>77598.0</td>\n",
       "    </tr>\n",
       "    <tr>\n",
       "      <th>April_DUActivityDays</th>\n",
       "      <td>52149.0</td>\n",
       "      <td>16.300811</td>\n",
       "      <td>10.612678</td>\n",
       "      <td>1.0</td>\n",
       "      <td>NaN</td>\n",
       "      <td>NaN</td>\n",
       "      <td>NaN</td>\n",
       "      <td>30.0</td>\n",
       "    </tr>\n",
       "    <tr>\n",
       "      <th>May_DUActivityDays</th>\n",
       "      <td>51609.0</td>\n",
       "      <td>16.768335</td>\n",
       "      <td>10.836272</td>\n",
       "      <td>1.0</td>\n",
       "      <td>NaN</td>\n",
       "      <td>NaN</td>\n",
       "      <td>NaN</td>\n",
       "      <td>31.0</td>\n",
       "    </tr>\n",
       "  </tbody>\n",
       "</table>\n",
       "</div>"
      ],
      "text/plain": [
       "                        count          mean           std  min      25%  \\\n",
       "DEL_NO                71097.0  35549.000000  20524.080381  1.0  17775.0   \n",
       "DataRevenue_JAN       43095.0    130.230073    172.342203  0.0      NaN   \n",
       "DataRevenue_FEB       49122.0    114.931456    160.012812  0.0      NaN   \n",
       "DataRevenue_MAR       51815.0    125.420284    177.648049  0.0      NaN   \n",
       "DataRevenue_APR       52166.0    126.965456    175.286359  0.0      NaN   \n",
       "DataRevenue_May       51976.0    127.636890    180.626263  0.0      NaN   \n",
       "DataUsageMB_JAN       43095.0    823.251073   1293.189090  0.0      NaN   \n",
       "DataUsageMB_FEB       49122.0    739.291947   1151.514743  0.0      NaN   \n",
       "DataUsageMB_MAR       51815.0    807.447901   1261.087031  0.0      NaN   \n",
       "DataUsageMB_APR       52166.0    792.812004   1284.582859  0.0      NaN   \n",
       "DataUsageMB_May       51976.0    817.985032   1338.030923  0.0      NaN   \n",
       "April_DUActivityDays  52149.0     16.300811     10.612678  1.0      NaN   \n",
       "May_DUActivityDays    51609.0     16.768335     10.836272  1.0      NaN   \n",
       "\n",
       "                          50%      75%      max  \n",
       "DEL_NO                35549.0  53323.0  71097.0  \n",
       "DataRevenue_JAN           NaN      NaN   3680.0  \n",
       "DataRevenue_FEB           NaN      NaN   4415.0  \n",
       "DataRevenue_MAR           NaN      NaN   5991.0  \n",
       "DataRevenue_APR           NaN      NaN   6966.0  \n",
       "DataRevenue_May           NaN      NaN   8910.0  \n",
       "DataUsageMB_JAN           NaN      NaN  45132.0  \n",
       "DataUsageMB_FEB           NaN      NaN  47479.0  \n",
       "DataUsageMB_MAR           NaN      NaN  46362.0  \n",
       "DataUsageMB_APR           NaN      NaN  58451.0  \n",
       "DataUsageMB_May           NaN      NaN  77598.0  \n",
       "April_DUActivityDays      NaN      NaN     30.0  \n",
       "May_DUActivityDays        NaN      NaN     31.0  "
      ]
     },
     "execution_count": 4,
     "metadata": {},
     "output_type": "execute_result"
    }
   ],
   "source": [
    "df.describe().T"
   ]
  },
  {
   "cell_type": "code",
   "execution_count": 5,
   "metadata": {
    "collapsed": false
   },
   "outputs": [
    {
     "data": {
      "text/html": [
       "<div>\n",
       "<table border=\"1\" class=\"dataframe\">\n",
       "  <thead>\n",
       "    <tr style=\"text-align: right;\">\n",
       "      <th></th>\n",
       "      <th>DEL_NO</th>\n",
       "      <th>FCD</th>\n",
       "      <th>DataRevenue_JAN</th>\n",
       "      <th>DataRevenue_FEB</th>\n",
       "      <th>DataRevenue_MAR</th>\n",
       "      <th>DataRevenue_APR</th>\n",
       "      <th>DataRevenue_May</th>\n",
       "      <th>DataUsageMB_JAN</th>\n",
       "      <th>DataUsageMB_FEB</th>\n",
       "      <th>DataUsageMB_MAR</th>\n",
       "      <th>...</th>\n",
       "      <th>2G-3G_Latch_FEB</th>\n",
       "      <th>2G-3G_Latch_MAR</th>\n",
       "      <th>2G-3G_Latch_APR</th>\n",
       "      <th>2G-3G_Latch_MAY</th>\n",
       "      <th>DUProfile_JAN</th>\n",
       "      <th>DUProfile_FEB</th>\n",
       "      <th>DUProfile_MAR</th>\n",
       "      <th>DUProfile_APR</th>\n",
       "      <th>DUProfile_May</th>\n",
       "      <th>Customer Type</th>\n",
       "    </tr>\n",
       "  </thead>\n",
       "  <tbody>\n",
       "    <tr>\n",
       "      <th>0</th>\n",
       "      <td>1</td>\n",
       "      <td>03-11-2010</td>\n",
       "      <td>172.0</td>\n",
       "      <td>176.0</td>\n",
       "      <td>0.0</td>\n",
       "      <td>225.0</td>\n",
       "      <td>0.0</td>\n",
       "      <td>1595.0</td>\n",
       "      <td>998.0</td>\n",
       "      <td>667.0</td>\n",
       "      <td>...</td>\n",
       "      <td>3G</td>\n",
       "      <td>3G</td>\n",
       "      <td>3G</td>\n",
       "      <td>3G</td>\n",
       "      <td>H</td>\n",
       "      <td>M</td>\n",
       "      <td>M</td>\n",
       "      <td>M</td>\n",
       "      <td>M</td>\n",
       "      <td>Consistent_M</td>\n",
       "    </tr>\n",
       "    <tr>\n",
       "      <th>1</th>\n",
       "      <td>2</td>\n",
       "      <td>16-02-2016</td>\n",
       "      <td>NaN</td>\n",
       "      <td>69.0</td>\n",
       "      <td>68.0</td>\n",
       "      <td>109.0</td>\n",
       "      <td>82.0</td>\n",
       "      <td>NaN</td>\n",
       "      <td>305.0</td>\n",
       "      <td>429.0</td>\n",
       "      <td>...</td>\n",
       "      <td>3G</td>\n",
       "      <td>NaN</td>\n",
       "      <td>NaN</td>\n",
       "      <td>3G</td>\n",
       "      <td>NaN</td>\n",
       "      <td>M</td>\n",
       "      <td>M</td>\n",
       "      <td>M</td>\n",
       "      <td>M</td>\n",
       "      <td>Consistent_M</td>\n",
       "    </tr>\n",
       "    <tr>\n",
       "      <th>2</th>\n",
       "      <td>3</td>\n",
       "      <td>05-05-2015</td>\n",
       "      <td>148.0</td>\n",
       "      <td>217.0</td>\n",
       "      <td>185.0</td>\n",
       "      <td>182.0</td>\n",
       "      <td>156.0</td>\n",
       "      <td>555.0</td>\n",
       "      <td>795.0</td>\n",
       "      <td>905.0</td>\n",
       "      <td>...</td>\n",
       "      <td>NaN</td>\n",
       "      <td>NaN</td>\n",
       "      <td>NaN</td>\n",
       "      <td>NaN</td>\n",
       "      <td>M</td>\n",
       "      <td>M</td>\n",
       "      <td>M</td>\n",
       "      <td>M</td>\n",
       "      <td>M</td>\n",
       "      <td>Consistent_M</td>\n",
       "    </tr>\n",
       "    <tr>\n",
       "      <th>3</th>\n",
       "      <td>4</td>\n",
       "      <td>06-04-2015</td>\n",
       "      <td>NaN</td>\n",
       "      <td>34.0</td>\n",
       "      <td>131.0</td>\n",
       "      <td>86.0</td>\n",
       "      <td>0.0</td>\n",
       "      <td>NaN</td>\n",
       "      <td>206.0</td>\n",
       "      <td>1499.0</td>\n",
       "      <td>...</td>\n",
       "      <td>3G</td>\n",
       "      <td>3G</td>\n",
       "      <td>3G</td>\n",
       "      <td>NaN</td>\n",
       "      <td>NaN</td>\n",
       "      <td>L</td>\n",
       "      <td>H</td>\n",
       "      <td>M</td>\n",
       "      <td>M</td>\n",
       "      <td>Consistent_M</td>\n",
       "    </tr>\n",
       "    <tr>\n",
       "      <th>4</th>\n",
       "      <td>5</td>\n",
       "      <td>08-07-2012</td>\n",
       "      <td>103.0</td>\n",
       "      <td>NaN</td>\n",
       "      <td>NaN</td>\n",
       "      <td>104.0</td>\n",
       "      <td>109.0</td>\n",
       "      <td>996.0</td>\n",
       "      <td>NaN</td>\n",
       "      <td>NaN</td>\n",
       "      <td>...</td>\n",
       "      <td>NaN</td>\n",
       "      <td>NaN</td>\n",
       "      <td>NaN</td>\n",
       "      <td>NaN</td>\n",
       "      <td>M</td>\n",
       "      <td>NaN</td>\n",
       "      <td>NaN</td>\n",
       "      <td>M</td>\n",
       "      <td>M</td>\n",
       "      <td>Consistent_M</td>\n",
       "    </tr>\n",
       "  </tbody>\n",
       "</table>\n",
       "<p>5 rows × 30 columns</p>\n",
       "</div>"
      ],
      "text/plain": [
       "   DEL_NO         FCD  DataRevenue_JAN  DataRevenue_FEB  DataRevenue_MAR  \\\n",
       "0       1  03-11-2010            172.0            176.0              0.0   \n",
       "1       2  16-02-2016              NaN             69.0             68.0   \n",
       "2       3  05-05-2015            148.0            217.0            185.0   \n",
       "3       4  06-04-2015              NaN             34.0            131.0   \n",
       "4       5  08-07-2012            103.0              NaN              NaN   \n",
       "\n",
       "   DataRevenue_APR  DataRevenue_May  DataUsageMB_JAN  DataUsageMB_FEB  \\\n",
       "0            225.0              0.0           1595.0            998.0   \n",
       "1            109.0             82.0              NaN            305.0   \n",
       "2            182.0            156.0            555.0            795.0   \n",
       "3             86.0              0.0              NaN            206.0   \n",
       "4            104.0            109.0            996.0              NaN   \n",
       "\n",
       "   DataUsageMB_MAR      ...       2G-3G_Latch_FEB  2G-3G_Latch_MAR  \\\n",
       "0            667.0      ...                    3G               3G   \n",
       "1            429.0      ...                    3G              NaN   \n",
       "2            905.0      ...                   NaN              NaN   \n",
       "3           1499.0      ...                    3G               3G   \n",
       "4              NaN      ...                   NaN              NaN   \n",
       "\n",
       "  2G-3G_Latch_APR 2G-3G_Latch_MAY DUProfile_JAN DUProfile_FEB DUProfile_MAR  \\\n",
       "0              3G              3G             H             M             M   \n",
       "1             NaN              3G           NaN             M             M   \n",
       "2             NaN             NaN             M             M             M   \n",
       "3              3G             NaN           NaN             L             H   \n",
       "4             NaN             NaN             M           NaN           NaN   \n",
       "\n",
       "   DUProfile_APR  DUProfile_May Customer Type  \n",
       "0              M              M  Consistent_M  \n",
       "1              M              M  Consistent_M  \n",
       "2              M              M  Consistent_M  \n",
       "3              M              M  Consistent_M  \n",
       "4              M              M  Consistent_M  \n",
       "\n",
       "[5 rows x 30 columns]"
      ]
     },
     "execution_count": 5,
     "metadata": {},
     "output_type": "execute_result"
    }
   ],
   "source": [
    "df.head()"
   ]
  },
  {
   "cell_type": "code",
   "execution_count": 6,
   "metadata": {
    "collapsed": false
   },
   "outputs": [
    {
     "data": {
      "text/plain": [
       "(71097, 30)"
      ]
     },
     "execution_count": 6,
     "metadata": {},
     "output_type": "execute_result"
    }
   ],
   "source": [
    "df.shape"
   ]
  },
  {
   "cell_type": "code",
   "execution_count": 7,
   "metadata": {
    "collapsed": true
   },
   "outputs": [],
   "source": [
    "df['DataRevenue']=df.iloc[:,2:7].sum(axis=1,skipna=1)\n",
    "df['DataUsageMB']=df.iloc[:,7:12].sum(axis=1,skipna=1)\n",
    "df['DUActivityDays']=df.iloc[:,17:19].sum(axis=1,skipna=1)"
   ]
  },
  {
   "cell_type": "code",
   "execution_count": 8,
   "metadata": {
    "collapsed": false
   },
   "outputs": [
    {
     "data": {
      "text/html": [
       "<div>\n",
       "<table border=\"1\" class=\"dataframe\">\n",
       "  <thead>\n",
       "    <tr style=\"text-align: right;\">\n",
       "      <th></th>\n",
       "      <th>count</th>\n",
       "      <th>mean</th>\n",
       "      <th>std</th>\n",
       "      <th>min</th>\n",
       "      <th>25%</th>\n",
       "      <th>50%</th>\n",
       "      <th>75%</th>\n",
       "      <th>max</th>\n",
       "    </tr>\n",
       "  </thead>\n",
       "  <tbody>\n",
       "    <tr>\n",
       "      <th>DEL_NO</th>\n",
       "      <td>71097.0</td>\n",
       "      <td>35549.000000</td>\n",
       "      <td>20524.080381</td>\n",
       "      <td>1.0</td>\n",
       "      <td>17775.0</td>\n",
       "      <td>35549.0</td>\n",
       "      <td>53323.0</td>\n",
       "      <td>71097.0</td>\n",
       "    </tr>\n",
       "    <tr>\n",
       "      <th>DataRevenue_JAN</th>\n",
       "      <td>43095.0</td>\n",
       "      <td>130.230073</td>\n",
       "      <td>172.342203</td>\n",
       "      <td>0.0</td>\n",
       "      <td>NaN</td>\n",
       "      <td>NaN</td>\n",
       "      <td>NaN</td>\n",
       "      <td>3680.0</td>\n",
       "    </tr>\n",
       "    <tr>\n",
       "      <th>DataRevenue_FEB</th>\n",
       "      <td>49122.0</td>\n",
       "      <td>114.931456</td>\n",
       "      <td>160.012812</td>\n",
       "      <td>0.0</td>\n",
       "      <td>NaN</td>\n",
       "      <td>NaN</td>\n",
       "      <td>NaN</td>\n",
       "      <td>4415.0</td>\n",
       "    </tr>\n",
       "    <tr>\n",
       "      <th>DataRevenue_MAR</th>\n",
       "      <td>51815.0</td>\n",
       "      <td>125.420284</td>\n",
       "      <td>177.648049</td>\n",
       "      <td>0.0</td>\n",
       "      <td>NaN</td>\n",
       "      <td>NaN</td>\n",
       "      <td>NaN</td>\n",
       "      <td>5991.0</td>\n",
       "    </tr>\n",
       "    <tr>\n",
       "      <th>DataRevenue_APR</th>\n",
       "      <td>52166.0</td>\n",
       "      <td>126.965456</td>\n",
       "      <td>175.286359</td>\n",
       "      <td>0.0</td>\n",
       "      <td>NaN</td>\n",
       "      <td>NaN</td>\n",
       "      <td>NaN</td>\n",
       "      <td>6966.0</td>\n",
       "    </tr>\n",
       "    <tr>\n",
       "      <th>DataRevenue_May</th>\n",
       "      <td>51976.0</td>\n",
       "      <td>127.636890</td>\n",
       "      <td>180.626263</td>\n",
       "      <td>0.0</td>\n",
       "      <td>NaN</td>\n",
       "      <td>NaN</td>\n",
       "      <td>NaN</td>\n",
       "      <td>8910.0</td>\n",
       "    </tr>\n",
       "    <tr>\n",
       "      <th>DataUsageMB_JAN</th>\n",
       "      <td>43095.0</td>\n",
       "      <td>823.251073</td>\n",
       "      <td>1293.189090</td>\n",
       "      <td>0.0</td>\n",
       "      <td>NaN</td>\n",
       "      <td>NaN</td>\n",
       "      <td>NaN</td>\n",
       "      <td>45132.0</td>\n",
       "    </tr>\n",
       "    <tr>\n",
       "      <th>DataUsageMB_FEB</th>\n",
       "      <td>49122.0</td>\n",
       "      <td>739.291947</td>\n",
       "      <td>1151.514743</td>\n",
       "      <td>0.0</td>\n",
       "      <td>NaN</td>\n",
       "      <td>NaN</td>\n",
       "      <td>NaN</td>\n",
       "      <td>47479.0</td>\n",
       "    </tr>\n",
       "    <tr>\n",
       "      <th>DataUsageMB_MAR</th>\n",
       "      <td>51815.0</td>\n",
       "      <td>807.447901</td>\n",
       "      <td>1261.087031</td>\n",
       "      <td>0.0</td>\n",
       "      <td>NaN</td>\n",
       "      <td>NaN</td>\n",
       "      <td>NaN</td>\n",
       "      <td>46362.0</td>\n",
       "    </tr>\n",
       "    <tr>\n",
       "      <th>DataUsageMB_APR</th>\n",
       "      <td>52166.0</td>\n",
       "      <td>792.812004</td>\n",
       "      <td>1284.582859</td>\n",
       "      <td>0.0</td>\n",
       "      <td>NaN</td>\n",
       "      <td>NaN</td>\n",
       "      <td>NaN</td>\n",
       "      <td>58451.0</td>\n",
       "    </tr>\n",
       "    <tr>\n",
       "      <th>DataUsageMB_May</th>\n",
       "      <td>51976.0</td>\n",
       "      <td>817.985032</td>\n",
       "      <td>1338.030923</td>\n",
       "      <td>0.0</td>\n",
       "      <td>NaN</td>\n",
       "      <td>NaN</td>\n",
       "      <td>NaN</td>\n",
       "      <td>77598.0</td>\n",
       "    </tr>\n",
       "    <tr>\n",
       "      <th>April_DUActivityDays</th>\n",
       "      <td>52149.0</td>\n",
       "      <td>16.300811</td>\n",
       "      <td>10.612678</td>\n",
       "      <td>1.0</td>\n",
       "      <td>NaN</td>\n",
       "      <td>NaN</td>\n",
       "      <td>NaN</td>\n",
       "      <td>30.0</td>\n",
       "    </tr>\n",
       "    <tr>\n",
       "      <th>May_DUActivityDays</th>\n",
       "      <td>51609.0</td>\n",
       "      <td>16.768335</td>\n",
       "      <td>10.836272</td>\n",
       "      <td>1.0</td>\n",
       "      <td>NaN</td>\n",
       "      <td>NaN</td>\n",
       "      <td>NaN</td>\n",
       "      <td>31.0</td>\n",
       "    </tr>\n",
       "    <tr>\n",
       "      <th>DataRevenue</th>\n",
       "      <td>71097.0</td>\n",
       "      <td>436.219742</td>\n",
       "      <td>643.648579</td>\n",
       "      <td>0.0</td>\n",
       "      <td>47.0</td>\n",
       "      <td>205.0</td>\n",
       "      <td>592.0</td>\n",
       "      <td>22297.0</td>\n",
       "    </tr>\n",
       "    <tr>\n",
       "      <th>DataUsageMB</th>\n",
       "      <td>71097.0</td>\n",
       "      <td>2777.963036</td>\n",
       "      <td>4803.249585</td>\n",
       "      <td>1.0</td>\n",
       "      <td>331.0</td>\n",
       "      <td>1066.0</td>\n",
       "      <td>3545.0</td>\n",
       "      <td>254326.0</td>\n",
       "    </tr>\n",
       "    <tr>\n",
       "      <th>DUActivityDays</th>\n",
       "      <td>71097.0</td>\n",
       "      <td>24.128557</td>\n",
       "      <td>22.056320</td>\n",
       "      <td>0.0</td>\n",
       "      <td>3.0</td>\n",
       "      <td>18.0</td>\n",
       "      <td>45.0</td>\n",
       "      <td>61.0</td>\n",
       "    </tr>\n",
       "  </tbody>\n",
       "</table>\n",
       "</div>"
      ],
      "text/plain": [
       "                        count          mean           std  min      25%  \\\n",
       "DEL_NO                71097.0  35549.000000  20524.080381  1.0  17775.0   \n",
       "DataRevenue_JAN       43095.0    130.230073    172.342203  0.0      NaN   \n",
       "DataRevenue_FEB       49122.0    114.931456    160.012812  0.0      NaN   \n",
       "DataRevenue_MAR       51815.0    125.420284    177.648049  0.0      NaN   \n",
       "DataRevenue_APR       52166.0    126.965456    175.286359  0.0      NaN   \n",
       "DataRevenue_May       51976.0    127.636890    180.626263  0.0      NaN   \n",
       "DataUsageMB_JAN       43095.0    823.251073   1293.189090  0.0      NaN   \n",
       "DataUsageMB_FEB       49122.0    739.291947   1151.514743  0.0      NaN   \n",
       "DataUsageMB_MAR       51815.0    807.447901   1261.087031  0.0      NaN   \n",
       "DataUsageMB_APR       52166.0    792.812004   1284.582859  0.0      NaN   \n",
       "DataUsageMB_May       51976.0    817.985032   1338.030923  0.0      NaN   \n",
       "April_DUActivityDays  52149.0     16.300811     10.612678  1.0      NaN   \n",
       "May_DUActivityDays    51609.0     16.768335     10.836272  1.0      NaN   \n",
       "DataRevenue           71097.0    436.219742    643.648579  0.0     47.0   \n",
       "DataUsageMB           71097.0   2777.963036   4803.249585  1.0    331.0   \n",
       "DUActivityDays        71097.0     24.128557     22.056320  0.0      3.0   \n",
       "\n",
       "                          50%      75%       max  \n",
       "DEL_NO                35549.0  53323.0   71097.0  \n",
       "DataRevenue_JAN           NaN      NaN    3680.0  \n",
       "DataRevenue_FEB           NaN      NaN    4415.0  \n",
       "DataRevenue_MAR           NaN      NaN    5991.0  \n",
       "DataRevenue_APR           NaN      NaN    6966.0  \n",
       "DataRevenue_May           NaN      NaN    8910.0  \n",
       "DataUsageMB_JAN           NaN      NaN   45132.0  \n",
       "DataUsageMB_FEB           NaN      NaN   47479.0  \n",
       "DataUsageMB_MAR           NaN      NaN   46362.0  \n",
       "DataUsageMB_APR           NaN      NaN   58451.0  \n",
       "DataUsageMB_May           NaN      NaN   77598.0  \n",
       "April_DUActivityDays      NaN      NaN      30.0  \n",
       "May_DUActivityDays        NaN      NaN      31.0  \n",
       "DataRevenue             205.0    592.0   22297.0  \n",
       "DataUsageMB            1066.0   3545.0  254326.0  \n",
       "DUActivityDays           18.0     45.0      61.0  "
      ]
     },
     "execution_count": 8,
     "metadata": {},
     "output_type": "execute_result"
    }
   ],
   "source": [
    "df.describe().T"
   ]
  },
  {
   "cell_type": "code",
   "execution_count": null,
   "metadata": {
    "collapsed": false
   },
   "outputs": [],
   "source": []
  },
  {
   "cell_type": "code",
   "execution_count": 9,
   "metadata": {
    "collapsed": false
   },
   "outputs": [
    {
     "data": {
      "text/html": [
       "<div>\n",
       "<table border=\"1\" class=\"dataframe\">\n",
       "  <thead>\n",
       "    <tr style=\"text-align: right;\">\n",
       "      <th></th>\n",
       "      <th>0</th>\n",
       "    </tr>\n",
       "  </thead>\n",
       "  <tbody>\n",
       "    <tr>\n",
       "      <th>0</th>\n",
       "      <td>SmartPhone_SmartPhone_SmartPhone_SmartPhone_Sm...</td>\n",
       "    </tr>\n",
       "    <tr>\n",
       "      <th>1</th>\n",
       "      <td>NA_SmartPhone_SmartPhone_SmartPhone_SmartPhone</td>\n",
       "    </tr>\n",
       "    <tr>\n",
       "      <th>2</th>\n",
       "      <td>SmartPhone_SmartPhone_SmartPhone_SmartPhone_Sm...</td>\n",
       "    </tr>\n",
       "    <tr>\n",
       "      <th>3</th>\n",
       "      <td>SmartPhone_SmartPhone_SmartPhone_SmartPhone_Fe...</td>\n",
       "    </tr>\n",
       "    <tr>\n",
       "      <th>4</th>\n",
       "      <td>SmartPhone_SmartPhone_SmartPhone_SmartPhone_Sm...</td>\n",
       "    </tr>\n",
       "  </tbody>\n",
       "</table>\n",
       "</div>"
      ],
      "text/plain": [
       "                                                   0\n",
       "0  SmartPhone_SmartPhone_SmartPhone_SmartPhone_Sm...\n",
       "1     NA_SmartPhone_SmartPhone_SmartPhone_SmartPhone\n",
       "2  SmartPhone_SmartPhone_SmartPhone_SmartPhone_Sm...\n",
       "3  SmartPhone_SmartPhone_SmartPhone_SmartPhone_Fe...\n",
       "4  SmartPhone_SmartPhone_SmartPhone_SmartPhone_Sm..."
      ]
     },
     "execution_count": 9,
     "metadata": {},
     "output_type": "execute_result"
    }
   ],
   "source": [
    "d1 = df.fillna('NA')\n",
    "d1 = d1.iloc[:,12:17]\n",
    "DataFrame(d1['HandSetType_JAN']+['_']\n",
    "          +d1['HandSetType_FEB']+['_']\n",
    "          +d1['HandSetType_MAR']+['_']\n",
    "          +d1['HandSetType_APR']+['_']\n",
    "          +d1['HandSetType_MAY']).head()"
   ]
  },
  {
   "cell_type": "code",
   "execution_count": 10,
   "metadata": {
    "collapsed": true
   },
   "outputs": [],
   "source": [
    "df['HandSetType']=DataFrame(d1['HandSetType_JAN']+['_']\n",
    "                            +d1['HandSetType_FEB']+['_']\n",
    "                            +d1['HandSetType_MAR']+['_']\n",
    "                            +d1['HandSetType_APR']+['_']\n",
    "                            +d1['HandSetType_MAY'])"
   ]
  },
  {
   "cell_type": "code",
   "execution_count": 11,
   "metadata": {
    "collapsed": false
   },
   "outputs": [
    {
     "data": {
      "text/html": [
       "<div>\n",
       "<table border=\"1\" class=\"dataframe\">\n",
       "  <thead>\n",
       "    <tr style=\"text-align: right;\">\n",
       "      <th></th>\n",
       "      <th>2G-3G_Latch_MAY</th>\n",
       "      <th>DUProfile_JAN</th>\n",
       "      <th>DUProfile_FEB</th>\n",
       "      <th>DUProfile_MAR</th>\n",
       "      <th>DUProfile_APR</th>\n",
       "      <th>DUProfile_May</th>\n",
       "      <th>Customer Type</th>\n",
       "      <th>DataRevenue</th>\n",
       "      <th>DataUsageMB</th>\n",
       "      <th>DUActivityDays</th>\n",
       "    </tr>\n",
       "  </thead>\n",
       "  <tbody>\n",
       "    <tr>\n",
       "      <th>0</th>\n",
       "      <td>3G</td>\n",
       "      <td>H</td>\n",
       "      <td>M</td>\n",
       "      <td>M</td>\n",
       "      <td>M</td>\n",
       "      <td>M</td>\n",
       "      <td>Consistent_M</td>\n",
       "      <td>573.0</td>\n",
       "      <td>4512.0</td>\n",
       "      <td>29.0</td>\n",
       "    </tr>\n",
       "    <tr>\n",
       "      <th>1</th>\n",
       "      <td>3G</td>\n",
       "      <td>NaN</td>\n",
       "      <td>M</td>\n",
       "      <td>M</td>\n",
       "      <td>M</td>\n",
       "      <td>M</td>\n",
       "      <td>Consistent_M</td>\n",
       "      <td>328.0</td>\n",
       "      <td>1930.0</td>\n",
       "      <td>32.0</td>\n",
       "    </tr>\n",
       "    <tr>\n",
       "      <th>2</th>\n",
       "      <td>NaN</td>\n",
       "      <td>M</td>\n",
       "      <td>M</td>\n",
       "      <td>M</td>\n",
       "      <td>M</td>\n",
       "      <td>M</td>\n",
       "      <td>Consistent_M</td>\n",
       "      <td>888.0</td>\n",
       "      <td>3467.0</td>\n",
       "      <td>59.0</td>\n",
       "    </tr>\n",
       "    <tr>\n",
       "      <th>3</th>\n",
       "      <td>NaN</td>\n",
       "      <td>NaN</td>\n",
       "      <td>L</td>\n",
       "      <td>H</td>\n",
       "      <td>M</td>\n",
       "      <td>M</td>\n",
       "      <td>Consistent_M</td>\n",
       "      <td>251.0</td>\n",
       "      <td>2662.0</td>\n",
       "      <td>32.0</td>\n",
       "    </tr>\n",
       "    <tr>\n",
       "      <th>4</th>\n",
       "      <td>NaN</td>\n",
       "      <td>M</td>\n",
       "      <td>NaN</td>\n",
       "      <td>NaN</td>\n",
       "      <td>M</td>\n",
       "      <td>M</td>\n",
       "      <td>Consistent_M</td>\n",
       "      <td>316.0</td>\n",
       "      <td>3037.0</td>\n",
       "      <td>9.0</td>\n",
       "    </tr>\n",
       "  </tbody>\n",
       "</table>\n",
       "</div>"
      ],
      "text/plain": [
       "  2G-3G_Latch_MAY DUProfile_JAN DUProfile_FEB DUProfile_MAR DUProfile_APR  \\\n",
       "0              3G             H             M             M             M   \n",
       "1              3G           NaN             M             M             M   \n",
       "2             NaN             M             M             M             M   \n",
       "3             NaN           NaN             L             H             M   \n",
       "4             NaN             M           NaN           NaN             M   \n",
       "\n",
       "  DUProfile_May Customer Type  DataRevenue  DataUsageMB  DUActivityDays  \n",
       "0             M  Consistent_M        573.0       4512.0            29.0  \n",
       "1             M  Consistent_M        328.0       1930.0            32.0  \n",
       "2             M  Consistent_M        888.0       3467.0            59.0  \n",
       "3             M  Consistent_M        251.0       2662.0            32.0  \n",
       "4             M  Consistent_M        316.0       3037.0             9.0  "
      ]
     },
     "execution_count": 11,
     "metadata": {},
     "output_type": "execute_result"
    }
   ],
   "source": [
    "DataFrame(df.iloc[:,23:33]).head()"
   ]
  },
  {
   "cell_type": "code",
   "execution_count": 12,
   "metadata": {
    "collapsed": false
   },
   "outputs": [
    {
     "data": {
      "text/html": [
       "<div>\n",
       "<table border=\"1\" class=\"dataframe\">\n",
       "  <thead>\n",
       "    <tr style=\"text-align: right;\">\n",
       "      <th></th>\n",
       "      <th>0</th>\n",
       "    </tr>\n",
       "  </thead>\n",
       "  <tbody>\n",
       "    <tr>\n",
       "      <th>0</th>\n",
       "      <td>H_M_M_M_M</td>\n",
       "    </tr>\n",
       "    <tr>\n",
       "      <th>1</th>\n",
       "      <td>NA_M_M_M_M</td>\n",
       "    </tr>\n",
       "    <tr>\n",
       "      <th>2</th>\n",
       "      <td>M_M_M_M_M</td>\n",
       "    </tr>\n",
       "    <tr>\n",
       "      <th>3</th>\n",
       "      <td>NA_L_H_M_M</td>\n",
       "    </tr>\n",
       "    <tr>\n",
       "      <th>4</th>\n",
       "      <td>M_NA_NA_M_M</td>\n",
       "    </tr>\n",
       "  </tbody>\n",
       "</table>\n",
       "</div>"
      ],
      "text/plain": [
       "             0\n",
       "0    H_M_M_M_M\n",
       "1   NA_M_M_M_M\n",
       "2    M_M_M_M_M\n",
       "3   NA_L_H_M_M\n",
       "4  M_NA_NA_M_M"
      ]
     },
     "execution_count": 12,
     "metadata": {},
     "output_type": "execute_result"
    }
   ],
   "source": [
    "d2 = df.fillna('NA')\n",
    "d2 = d2.iloc[:,24:29]\n",
    "DataFrame(d2['DUProfile_JAN']+['_']+d2['DUProfile_FEB']+['_']\n",
    "                            +d2['DUProfile_MAR']+['_']\n",
    "                            +d2['DUProfile_APR']+['_']\n",
    "                            +d2['DUProfile_May']).head()"
   ]
  },
  {
   "cell_type": "code",
   "execution_count": 13,
   "metadata": {
    "collapsed": false
   },
   "outputs": [],
   "source": [
    "df['DUProfile']=DataFrame(d2['DUProfile_JAN']+['_']\n",
    "                            +d2['DUProfile_FEB']+['_']\n",
    "                            +d2['DUProfile_MAR']+['_']\n",
    "                            +d2['DUProfile_APR']+['_']\n",
    "                            +d2['DUProfile_May'])"
   ]
  },
  {
   "cell_type": "code",
   "execution_count": 14,
   "metadata": {
    "collapsed": false
   },
   "outputs": [
    {
     "data": {
      "text/html": [
       "<div>\n",
       "<table border=\"1\" class=\"dataframe\">\n",
       "  <thead>\n",
       "    <tr style=\"text-align: right;\">\n",
       "      <th></th>\n",
       "      <th>0</th>\n",
       "    </tr>\n",
       "  </thead>\n",
       "  <tbody>\n",
       "    <tr>\n",
       "      <th>0</th>\n",
       "      <td>3G_3G_3G_3G_3G</td>\n",
       "    </tr>\n",
       "    <tr>\n",
       "      <th>1</th>\n",
       "      <td>NA_3G_NA_NA_3G</td>\n",
       "    </tr>\n",
       "    <tr>\n",
       "      <th>2</th>\n",
       "      <td>NA_NA_NA_NA_NA</td>\n",
       "    </tr>\n",
       "    <tr>\n",
       "      <th>3</th>\n",
       "      <td>NA_3G_3G_3G_NA</td>\n",
       "    </tr>\n",
       "    <tr>\n",
       "      <th>4</th>\n",
       "      <td>NA_NA_NA_NA_NA</td>\n",
       "    </tr>\n",
       "  </tbody>\n",
       "</table>\n",
       "</div>"
      ],
      "text/plain": [
       "                0\n",
       "0  3G_3G_3G_3G_3G\n",
       "1  NA_3G_NA_NA_3G\n",
       "2  NA_NA_NA_NA_NA\n",
       "3  NA_3G_3G_3G_NA\n",
       "4  NA_NA_NA_NA_NA"
      ]
     },
     "execution_count": 14,
     "metadata": {},
     "output_type": "execute_result"
    }
   ],
   "source": [
    "d3 = df.fillna('NA')\n",
    "d3 = d3.iloc[:,19:24]\n",
    "DataFrame(d3['2G-3G_Latch_JAN']+['_']+d3['2G-3G_Latch_FEB']+['_']\n",
    "                            +d3['2G-3G_Latch_MAR']+['_']\n",
    "                            +d3['2G-3G_Latch_APR']+['_']\n",
    "                            +d3['2G-3G_Latch_MAY']).head()"
   ]
  },
  {
   "cell_type": "code",
   "execution_count": 15,
   "metadata": {
    "collapsed": false
   },
   "outputs": [],
   "source": [
    "df['2G-3G_Latch']=DataFrame(d3['2G-3G_Latch_JAN']+['_']\n",
    "                            +d3['2G-3G_Latch_FEB']+['_']\n",
    "                            +d3['2G-3G_Latch_MAR']+['_']\n",
    "                            +d3['2G-3G_Latch_APR']+['_']\n",
    "                            +d3['2G-3G_Latch_MAY'])"
   ]
  },
  {
   "cell_type": "code",
   "execution_count": 16,
   "metadata": {
    "collapsed": true
   },
   "outputs": [],
   "source": [
    "d4 = df.iloc[:,30:39]"
   ]
  },
  {
   "cell_type": "code",
   "execution_count": 17,
   "metadata": {
    "collapsed": false
   },
   "outputs": [
    {
     "data": {
      "text/html": [
       "<div>\n",
       "<table border=\"1\" class=\"dataframe\">\n",
       "  <thead>\n",
       "    <tr style=\"text-align: right;\">\n",
       "      <th></th>\n",
       "      <th>DataRevenue</th>\n",
       "      <th>DataUsageMB</th>\n",
       "      <th>DUActivityDays</th>\n",
       "      <th>HandSetType</th>\n",
       "      <th>DUProfile</th>\n",
       "      <th>2G-3G_Latch</th>\n",
       "    </tr>\n",
       "  </thead>\n",
       "  <tbody>\n",
       "    <tr>\n",
       "      <th>0</th>\n",
       "      <td>573.0</td>\n",
       "      <td>4512.0</td>\n",
       "      <td>29.0</td>\n",
       "      <td>SmartPhone_SmartPhone_SmartPhone_SmartPhone_Sm...</td>\n",
       "      <td>H_M_M_M_M</td>\n",
       "      <td>3G_3G_3G_3G_3G</td>\n",
       "    </tr>\n",
       "    <tr>\n",
       "      <th>1</th>\n",
       "      <td>328.0</td>\n",
       "      <td>1930.0</td>\n",
       "      <td>32.0</td>\n",
       "      <td>NA_SmartPhone_SmartPhone_SmartPhone_SmartPhone</td>\n",
       "      <td>NA_M_M_M_M</td>\n",
       "      <td>NA_3G_NA_NA_3G</td>\n",
       "    </tr>\n",
       "    <tr>\n",
       "      <th>2</th>\n",
       "      <td>888.0</td>\n",
       "      <td>3467.0</td>\n",
       "      <td>59.0</td>\n",
       "      <td>SmartPhone_SmartPhone_SmartPhone_SmartPhone_Sm...</td>\n",
       "      <td>M_M_M_M_M</td>\n",
       "      <td>NA_NA_NA_NA_NA</td>\n",
       "    </tr>\n",
       "    <tr>\n",
       "      <th>3</th>\n",
       "      <td>251.0</td>\n",
       "      <td>2662.0</td>\n",
       "      <td>32.0</td>\n",
       "      <td>SmartPhone_SmartPhone_SmartPhone_SmartPhone_Fe...</td>\n",
       "      <td>NA_L_H_M_M</td>\n",
       "      <td>NA_3G_3G_3G_NA</td>\n",
       "    </tr>\n",
       "    <tr>\n",
       "      <th>4</th>\n",
       "      <td>316.0</td>\n",
       "      <td>3037.0</td>\n",
       "      <td>9.0</td>\n",
       "      <td>SmartPhone_SmartPhone_SmartPhone_SmartPhone_Sm...</td>\n",
       "      <td>M_NA_NA_M_M</td>\n",
       "      <td>NA_NA_NA_NA_NA</td>\n",
       "    </tr>\n",
       "  </tbody>\n",
       "</table>\n",
       "</div>"
      ],
      "text/plain": [
       "   DataRevenue  DataUsageMB  DUActivityDays  \\\n",
       "0        573.0       4512.0            29.0   \n",
       "1        328.0       1930.0            32.0   \n",
       "2        888.0       3467.0            59.0   \n",
       "3        251.0       2662.0            32.0   \n",
       "4        316.0       3037.0             9.0   \n",
       "\n",
       "                                         HandSetType    DUProfile  \\\n",
       "0  SmartPhone_SmartPhone_SmartPhone_SmartPhone_Sm...    H_M_M_M_M   \n",
       "1     NA_SmartPhone_SmartPhone_SmartPhone_SmartPhone   NA_M_M_M_M   \n",
       "2  SmartPhone_SmartPhone_SmartPhone_SmartPhone_Sm...    M_M_M_M_M   \n",
       "3  SmartPhone_SmartPhone_SmartPhone_SmartPhone_Fe...   NA_L_H_M_M   \n",
       "4  SmartPhone_SmartPhone_SmartPhone_SmartPhone_Sm...  M_NA_NA_M_M   \n",
       "\n",
       "      2G-3G_Latch  \n",
       "0  3G_3G_3G_3G_3G  \n",
       "1  NA_3G_NA_NA_3G  \n",
       "2  NA_NA_NA_NA_NA  \n",
       "3  NA_3G_3G_3G_NA  \n",
       "4  NA_NA_NA_NA_NA  "
      ]
     },
     "execution_count": 17,
     "metadata": {},
     "output_type": "execute_result"
    }
   ],
   "source": [
    "DataFrame(d4).head()"
   ]
  },
  {
   "cell_type": "code",
   "execution_count": 18,
   "metadata": {
    "collapsed": false
   },
   "outputs": [],
   "source": [
    "d4.to_csv('TBLA.csv')\n",
    "df.to_csv('TBLA_with_cleaning.csv')"
   ]
  },
  {
   "cell_type": "code",
   "execution_count": 19,
   "metadata": {
    "collapsed": false
   },
   "outputs": [
    {
     "data": {
      "text/html": [
       "<div>\n",
       "<table border=\"1\" class=\"dataframe\">\n",
       "  <thead>\n",
       "    <tr style=\"text-align: right;\">\n",
       "      <th></th>\n",
       "      <th>DataRevenue</th>\n",
       "      <th>DataUsageMB</th>\n",
       "      <th>DUActivityDays</th>\n",
       "    </tr>\n",
       "  </thead>\n",
       "  <tbody>\n",
       "    <tr>\n",
       "      <th>count</th>\n",
       "      <td>71097.000000</td>\n",
       "      <td>71097.000000</td>\n",
       "      <td>71097.000000</td>\n",
       "    </tr>\n",
       "    <tr>\n",
       "      <th>mean</th>\n",
       "      <td>436.219742</td>\n",
       "      <td>2777.963036</td>\n",
       "      <td>24.128557</td>\n",
       "    </tr>\n",
       "    <tr>\n",
       "      <th>std</th>\n",
       "      <td>643.648579</td>\n",
       "      <td>4803.249585</td>\n",
       "      <td>22.056320</td>\n",
       "    </tr>\n",
       "    <tr>\n",
       "      <th>min</th>\n",
       "      <td>0.000000</td>\n",
       "      <td>1.000000</td>\n",
       "      <td>0.000000</td>\n",
       "    </tr>\n",
       "    <tr>\n",
       "      <th>25%</th>\n",
       "      <td>47.000000</td>\n",
       "      <td>331.000000</td>\n",
       "      <td>3.000000</td>\n",
       "    </tr>\n",
       "    <tr>\n",
       "      <th>50%</th>\n",
       "      <td>205.000000</td>\n",
       "      <td>1066.000000</td>\n",
       "      <td>18.000000</td>\n",
       "    </tr>\n",
       "    <tr>\n",
       "      <th>75%</th>\n",
       "      <td>592.000000</td>\n",
       "      <td>3545.000000</td>\n",
       "      <td>45.000000</td>\n",
       "    </tr>\n",
       "    <tr>\n",
       "      <th>max</th>\n",
       "      <td>22297.000000</td>\n",
       "      <td>254326.000000</td>\n",
       "      <td>61.000000</td>\n",
       "    </tr>\n",
       "  </tbody>\n",
       "</table>\n",
       "</div>"
      ],
      "text/plain": [
       "        DataRevenue    DataUsageMB  DUActivityDays\n",
       "count  71097.000000   71097.000000    71097.000000\n",
       "mean     436.219742    2777.963036       24.128557\n",
       "std      643.648579    4803.249585       22.056320\n",
       "min        0.000000       1.000000        0.000000\n",
       "25%       47.000000     331.000000        3.000000\n",
       "50%      205.000000    1066.000000       18.000000\n",
       "75%      592.000000    3545.000000       45.000000\n",
       "max    22297.000000  254326.000000       61.000000"
      ]
     },
     "execution_count": 19,
     "metadata": {},
     "output_type": "execute_result"
    }
   ],
   "source": [
    "DataFrame(d4).describe()"
   ]
  },
  {
   "cell_type": "code",
   "execution_count": 20,
   "metadata": {
    "collapsed": true
   },
   "outputs": [],
   "source": [
    "d5 = d4.iloc[:,0:3]"
   ]
  },
  {
   "cell_type": "code",
   "execution_count": 21,
   "metadata": {
    "collapsed": true
   },
   "outputs": [],
   "source": [
    "from sklearn.decomposition import PCA"
   ]
  },
  {
   "cell_type": "code",
   "execution_count": 22,
   "metadata": {
    "collapsed": true
   },
   "outputs": [],
   "source": [
    "pc = PCA(n_components=2, whiten=True)"
   ]
  },
  {
   "cell_type": "code",
   "execution_count": 23,
   "metadata": {
    "collapsed": false
   },
   "outputs": [
    {
     "data": {
      "text/plain": [
       "PCA(copy=True, n_components=2, whiten=True)"
      ]
     },
     "execution_count": 23,
     "metadata": {},
     "output_type": "execute_result"
    }
   ],
   "source": [
    "pc.fit(d5)"
   ]
  },
  {
   "cell_type": "code",
   "execution_count": 24,
   "metadata": {
    "collapsed": false
   },
   "outputs": [
    {
     "data": {
      "text/plain": [
       "array([ 0.99717519,  0.00281061])"
      ]
     },
     "execution_count": 24,
     "metadata": {},
     "output_type": "execute_result"
    }
   ],
   "source": [
    "pc.explained_variance_ratio_"
   ]
  },
  {
   "cell_type": "code",
   "execution_count": 25,
   "metadata": {
    "collapsed": false
   },
   "outputs": [
    {
     "name": "stdout",
     "output_type": "stream",
     "text": [
      "Populating the interactive namespace from numpy and matplotlib\n"
     ]
    }
   ],
   "source": [
    "%pylab inline\n",
    "import matplotlib.pylab as plt"
   ]
  },
  {
   "cell_type": "code",
   "execution_count": 78,
   "metadata": {
    "collapsed": true
   },
   "outputs": [],
   "source": [
    "from sklearn.preprocessing import StandardScaler\n",
    "scaler = StandardScaler()\n",
    "X_scaled = scaler.fit_transform(d5.iloc[:1000,:])"
   ]
  },
  {
   "cell_type": "code",
   "execution_count": 79,
   "metadata": {
    "collapsed": false
   },
   "outputs": [],
   "source": [
    "# calculate SC for K=2 through K=19\n",
    "k_range = range(2, 10)\n",
    "scores = []\n",
    "for k in k_range:\n",
    "    km = KMeans(n_clusters=k, random_state=1)\n",
    "    km.fit(X_scaled)\n",
    "    scores.append(metrics.silhouette_score(X_scaled, km.labels_))"
   ]
  },
  {
   "cell_type": "code",
   "execution_count": 80,
   "metadata": {
    "collapsed": false
   },
   "outputs": [
    {
     "data": {
      "image/png": "[encoded data removed]",
      "text/plain": [
       "<matplotlib.figure.Figure at 0x135c89f0>"
      ]
     },
     "metadata": {},
     "output_type": "display_data"
    }
   ],
   "source": [
    "# plot the results\n",
    "plt.plot(k_range, scores)\n",
    "plt.xlabel('Number of clusters')\n",
    "plt.ylabel('Silhouette Coefficient')\n",
    "plt.grid(True)"
   ]
  },
  {
   "cell_type": "code",
   "execution_count": 135,
   "metadata": {
    "collapsed": false
   },
   "outputs": [],
   "source": [
    "from sklearn.preprocessing import StandardScaler\n",
    "scaler = StandardScaler()\n",
    "d6 = scaler.fit_transform(d5)\n",
    "from sklearn.cluster import KMeans\n",
    "km = KMeans(n_clusters=2).fit(d6)"
   ]
  },
  {
   "cell_type": "code",
   "execution_count": 136,
   "metadata": {
    "collapsed": false
   },
   "outputs": [
    {
     "data": {
      "text/plain": [
       "<matplotlib.collections.PathCollection at 0x11583a90>"
      ]
     },
     "execution_count": 136,
     "metadata": {},
     "output_type": "execute_result"
    },
    {
     "data": {
      "image/png": "[encoded data removed]",
      "text/plain": [
       "<matplotlib.figure.Figure at 0xd4a3db0>"
      ]
     },
     "metadata": {},
     "output_type": "display_data"
    }
   ],
   "source": [
    "plt.scatter(d5['DataRevenue'],d5['DataUsageMB'],c=km.labels_)"
   ]
  },
  {
   "cell_type": "code",
   "execution_count": 137,
   "metadata": {
    "collapsed": false
   },
   "outputs": [
    {
     "data": {
      "text/plain": [
       "<matplotlib.collections.PathCollection at 0xd3ab3d0>"
      ]
     },
     "execution_count": 137,
     "metadata": {},
     "output_type": "execute_result"
    },
    {
     "data": {
      "image/png": "[encoded data removed]",
      "text/plain": [
       "<matplotlib.figure.Figure at 0xd4a63f0>"
      ]
     },
     "metadata": {},
     "output_type": "display_data"
    }
   ],
   "source": [
    "plt.scatter(d5['DUActivityDays'],d5['DataRevenue'],c=km.labels_)"
   ]
  },
  {
   "cell_type": "code",
   "execution_count": 138,
   "metadata": {
    "collapsed": false
   },
   "outputs": [
    {
     "data": {
      "text/html": [
       "<div>\n",
       "<table border=\"1\" class=\"dataframe\">\n",
       "  <thead>\n",
       "    <tr style=\"text-align: right;\">\n",
       "      <th></th>\n",
       "      <th>DataRevenue</th>\n",
       "      <th>DataUsageMB</th>\n",
       "      <th>DUActivityDays</th>\n",
       "    </tr>\n",
       "    <tr>\n",
       "      <th>cluster</th>\n",
       "      <th></th>\n",
       "      <th></th>\n",
       "      <th></th>\n",
       "    </tr>\n",
       "  </thead>\n",
       "  <tbody>\n",
       "    <tr>\n",
       "      <th>0</th>\n",
       "      <td>300.031468</td>\n",
       "      <td>1722.049082</td>\n",
       "      <td>21.663456</td>\n",
       "    </tr>\n",
       "    <tr>\n",
       "      <th>1</th>\n",
       "      <td>1860.479130</td>\n",
       "      <td>13820.729895</td>\n",
       "      <td>49.908622</td>\n",
       "    </tr>\n",
       "  </tbody>\n",
       "</table>\n",
       "</div>"
      ],
      "text/plain": [
       "         DataRevenue   DataUsageMB  DUActivityDays\n",
       "cluster                                           \n",
       "0         300.031468   1722.049082       21.663456\n",
       "1        1860.479130  13820.729895       49.908622"
      ]
     },
     "execution_count": 138,
     "metadata": {},
     "output_type": "execute_result"
    }
   ],
   "source": [
    "d5['cluster']=km.labels_\n",
    "d5.groupby('cluster').mean()"
   ]
  },
  {
   "cell_type": "code",
   "execution_count": 139,
   "metadata": {
    "collapsed": false
   },
   "outputs": [
    {
     "data": {
      "text/html": [
       "<div>\n",
       "<table border=\"1\" class=\"dataframe\">\n",
       "  <thead>\n",
       "    <tr style=\"text-align: right;\">\n",
       "      <th></th>\n",
       "      <th>DataRevenue</th>\n",
       "      <th>DataUsageMB</th>\n",
       "      <th>DUActivityDays</th>\n",
       "      <th>cluster</th>\n",
       "    </tr>\n",
       "  </thead>\n",
       "  <tbody>\n",
       "    <tr>\n",
       "      <th>count</th>\n",
       "      <td>71097.000000</td>\n",
       "      <td>71097.000000</td>\n",
       "      <td>71097.000000</td>\n",
       "      <td>71097.000000</td>\n",
       "    </tr>\n",
       "    <tr>\n",
       "      <th>mean</th>\n",
       "      <td>436.219742</td>\n",
       "      <td>2777.963036</td>\n",
       "      <td>24.128557</td>\n",
       "      <td>0.087275</td>\n",
       "    </tr>\n",
       "    <tr>\n",
       "      <th>std</th>\n",
       "      <td>643.648579</td>\n",
       "      <td>4803.249585</td>\n",
       "      <td>22.056320</td>\n",
       "      <td>0.282421</td>\n",
       "    </tr>\n",
       "    <tr>\n",
       "      <th>min</th>\n",
       "      <td>0.000000</td>\n",
       "      <td>1.000000</td>\n",
       "      <td>0.000000</td>\n",
       "      <td>0.000000</td>\n",
       "    </tr>\n",
       "    <tr>\n",
       "      <th>25%</th>\n",
       "      <td>47.000000</td>\n",
       "      <td>331.000000</td>\n",
       "      <td>3.000000</td>\n",
       "      <td>0.000000</td>\n",
       "    </tr>\n",
       "    <tr>\n",
       "      <th>50%</th>\n",
       "      <td>205.000000</td>\n",
       "      <td>1066.000000</td>\n",
       "      <td>18.000000</td>\n",
       "      <td>0.000000</td>\n",
       "    </tr>\n",
       "    <tr>\n",
       "      <th>75%</th>\n",
       "      <td>592.000000</td>\n",
       "      <td>3545.000000</td>\n",
       "      <td>45.000000</td>\n",
       "      <td>0.000000</td>\n",
       "    </tr>\n",
       "    <tr>\n",
       "      <th>max</th>\n",
       "      <td>22297.000000</td>\n",
       "      <td>254326.000000</td>\n",
       "      <td>61.000000</td>\n",
       "      <td>1.000000</td>\n",
       "    </tr>\n",
       "  </tbody>\n",
       "</table>\n",
       "</div>"
      ],
      "text/plain": [
       "        DataRevenue    DataUsageMB  DUActivityDays       cluster\n",
       "count  71097.000000   71097.000000    71097.000000  71097.000000\n",
       "mean     436.219742    2777.963036       24.128557      0.087275\n",
       "std      643.648579    4803.249585       22.056320      0.282421\n",
       "min        0.000000       1.000000        0.000000      0.000000\n",
       "25%       47.000000     331.000000        3.000000      0.000000\n",
       "50%      205.000000    1066.000000       18.000000      0.000000\n",
       "75%      592.000000    3545.000000       45.000000      0.000000\n",
       "max    22297.000000  254326.000000       61.000000      1.000000"
      ]
     },
     "execution_count": 139,
     "metadata": {},
     "output_type": "execute_result"
    }
   ],
   "source": [
    "d5.describe()"
   ]
  },
  {
   "cell_type": "code",
   "execution_count": 140,
   "metadata": {
    "collapsed": true
   },
   "outputs": [],
   "source": [
    "X = d5.iloc[:,1:4]\n",
    "Y = d5.iloc[:,0]"
   ]
  },
  {
   "cell_type": "code",
   "execution_count": 141,
   "metadata": {
    "collapsed": false
   },
   "outputs": [],
   "source": [
    "from sklearn.cross_validation import train_test_split\n",
    "X_train, X_test, y_train, y_test = train_test_split(X, Y, test_size=0.3, random_state=42)"
   ]
  },
  {
   "cell_type": "code",
   "execution_count": 142,
   "metadata": {
    "collapsed": true
   },
   "outputs": [],
   "source": [
    "from sklearn.preprocessing import StandardScaler\n",
    "sc = StandardScaler().fit(X_train)\n",
    "X_train1 = sc.transform(X_train)\n",
    "X_test1 = sc.transform(X_test)"
   ]
  },
  {
   "cell_type": "code",
   "execution_count": 143,
   "metadata": {
    "collapsed": false
   },
   "outputs": [
    {
     "data": {
      "text/plain": [
       "LinearRegression(copy_X=True, fit_intercept=True, n_jobs=1, normalize=False)"
      ]
     },
     "execution_count": 143,
     "metadata": {},
     "output_type": "execute_result"
    }
   ],
   "source": [
    "from sklearn.linear_model import LinearRegression\n",
    "lm = LinearRegression()\n",
    "lm.fit(X_train1, y_train)"
   ]
  },
  {
   "cell_type": "code",
   "execution_count": 144,
   "metadata": {
    "collapsed": false
   },
   "outputs": [
    {
     "name": "stdout",
     "output_type": "stream",
     "text": [
      "59689.0601572\n",
      "58132.2699286\n"
     ]
    }
   ],
   "source": [
    "from sklearn.metrics import mean_absolute_error, mean_squared_error\n",
    "print mean_squared_error(lm.predict(X_train1),y_train)\n",
    "print mean_squared_error(lm.predict(X_test1),y_test)"
   ]
  },
  {
   "cell_type": "code",
   "execution_count": 145,
   "metadata": {
    "collapsed": false
   },
   "outputs": [
    {
     "data": {
      "text/plain": [
       "array([ 516.6972165 ,   96.81113724,   43.2847024 ])"
      ]
     },
     "execution_count": 145,
     "metadata": {},
     "output_type": "execute_result"
    }
   ],
   "source": [
    "lm.coef_"
   ]
  },
  {
   "cell_type": "code",
   "execution_count": 163,
   "metadata": {
    "collapsed": false
   },
   "outputs": [
    {
     "name": "stdout",
     "output_type": "stream",
     "text": [
      "318012.96539\n",
      "305465.849216\n"
     ]
    }
   ],
   "source": [
    "from sklearn.linear_model import LinearRegression, Lasso, Ridge, ElasticNet\n",
    "la = Lasso(alpha=500)\n",
    "la.fit(X_train1, y_train)\n",
    "print mean_squared_error(la.predict(X_train1),y_train)\n",
    "print mean_squared_error(la.predict(X_test1),y_test)"
   ]
  },
  {
   "cell_type": "code",
   "execution_count": 164,
   "metadata": {
    "collapsed": false
   },
   "outputs": [
    {
     "name": "stdout",
     "output_type": "stream",
     "text": [
      "59691.0545223\n",
      "58182.7021921\n"
     ]
    }
   ],
   "source": [
    "from sklearn.linear_model import LinearRegression, Lasso, Ridge, ElasticNet\n",
    "rd = Ridge(alpha=100)\n",
    "rd.fit(X_train1, y_train)\n",
    "print mean_squared_error(rd.predict(X_train1),y_train)\n",
    "print mean_squared_error(rd.predict(X_test1),y_test)"
   ]
  },
  {
   "cell_type": "code",
   "execution_count": 160,
   "metadata": {
    "collapsed": false
   },
   "outputs": [
    {
     "data": {
      "text/plain": [
       "(array([ 516.44533487,   96.1529835 ,   42.70062078]),\n",
       " array([ 514.59090829,   97.16753898,   44.55767555]))"
      ]
     },
     "execution_count": 160,
     "metadata": {},
     "output_type": "execute_result"
    }
   ],
   "source": [
    "la.coef_, rd.coef_"
   ]
  },
  {
   "cell_type": "code",
   "execution_count": 183,
   "metadata": {
    "collapsed": false
   },
   "outputs": [
    {
     "data": {
      "text/html": [
       "<table class=\"simpletable\">\n",
       "<caption>OLS Regression Results</caption>\n",
       "<tr>\n",
       "  <th>Dep. Variable:</th>       <td>DataRevenue</td>   <th>  R-squared:         </th>  <td>   0.857</td>  \n",
       "</tr>\n",
       "<tr>\n",
       "  <th>Model:</th>                   <td>OLS</td>       <th>  Adj. R-squared:    </th>  <td>   0.857</td>  \n",
       "</tr>\n",
       "<tr>\n",
       "  <th>Method:</th>             <td>Least Squares</td>  <th>  F-statistic:       </th>  <td>1.422e+05</td> \n",
       "</tr>\n",
       "<tr>\n",
       "  <th>Date:</th>             <td>Wed, 22 Mar 2017</td> <th>  Prob (F-statistic):</th>   <td>  0.00</td>   \n",
       "</tr>\n",
       "<tr>\n",
       "  <th>Time:</th>                 <td>14:52:54</td>     <th>  Log-Likelihood:    </th> <td>-4.9151e+05</td>\n",
       "</tr>\n",
       "<tr>\n",
       "  <th>No. Observations:</th>      <td> 71097</td>      <th>  AIC:               </th>  <td>9.830e+05</td> \n",
       "</tr>\n",
       "<tr>\n",
       "  <th>Df Residuals:</th>          <td> 71093</td>      <th>  BIC:               </th>  <td>9.831e+05</td> \n",
       "</tr>\n",
       "<tr>\n",
       "  <th>Df Model:</th>              <td>     3</td>      <th>                     </th>      <td> </td>     \n",
       "</tr>\n",
       "<tr>\n",
       "  <th>Covariance Type:</th>      <td>nonrobust</td>    <th>                     </th>      <td> </td>     \n",
       "</tr>\n",
       "</table>\n",
       "<table class=\"simpletable\">\n",
       "<tr>\n",
       "         <td></td>           <th>coef</th>     <th>std err</th>      <th>t</th>      <th>P>|t|</th> <th>[95.0% Conf. Int.]</th> \n",
       "</tr>\n",
       "<tr>\n",
       "  <th>const</th>          <td>   22.4613</td> <td>    1.362</td> <td>   16.487</td> <td> 0.000</td> <td>   19.791    25.131</td>\n",
       "</tr>\n",
       "<tr>\n",
       "  <th>DataUsageMB</th>    <td>    0.1072</td> <td>    0.000</td> <td>  372.391</td> <td> 0.000</td> <td>    0.107     0.108</td>\n",
       "</tr>\n",
       "<tr>\n",
       "  <th>DUActivityDays</th> <td>    4.2890</td> <td>    0.047</td> <td>   90.680</td> <td> 0.000</td> <td>    4.196     4.382</td>\n",
       "</tr>\n",
       "<tr>\n",
       "  <th>cluster</th>        <td>  141.9586</td> <td>    4.599</td> <td>   30.869</td> <td> 0.000</td> <td>  132.945   150.972</td>\n",
       "</tr>\n",
       "</table>\n",
       "<table class=\"simpletable\">\n",
       "<tr>\n",
       "  <th>Omnibus:</th>       <td>39778.464</td> <th>  Durbin-Watson:     </th>   <td>   1.992</td>  \n",
       "</tr>\n",
       "<tr>\n",
       "  <th>Prob(Omnibus):</th>  <td> 0.000</td>   <th>  Jarque-Bera (JB):  </th> <td>18890443.300</td>\n",
       "</tr>\n",
       "<tr>\n",
       "  <th>Skew:</th>           <td> 1.389</td>   <th>  Prob(JB):          </th>   <td>    0.00</td>  \n",
       "</tr>\n",
       "<tr>\n",
       "  <th>Kurtosis:</th>       <td>82.806</td>   <th>  Cond. No.          </th>   <td>2.80e+04</td>  \n",
       "</tr>\n",
       "</table>"
      ],
      "text/plain": [
       "<class 'statsmodels.iolib.summary.Summary'>\n",
       "\"\"\"\n",
       "                            OLS Regression Results                            \n",
       "==============================================================================\n",
       "Dep. Variable:            DataRevenue   R-squared:                       0.857\n",
       "Model:                            OLS   Adj. R-squared:                  0.857\n",
       "Method:                 Least Squares   F-statistic:                 1.422e+05\n",
       "Date:                Wed, 22 Mar 2017   Prob (F-statistic):               0.00\n",
       "Time:                        14:52:54   Log-Likelihood:            -4.9151e+05\n",
       "No. Observations:               71097   AIC:                         9.830e+05\n",
       "Df Residuals:                   71093   BIC:                         9.831e+05\n",
       "Df Model:                           3                                         \n",
       "Covariance Type:            nonrobust                                         \n",
       "==================================================================================\n",
       "                     coef    std err          t      P>|t|      [95.0% Conf. Int.]\n",
       "----------------------------------------------------------------------------------\n",
       "const             22.4613      1.362     16.487      0.000        19.791    25.131\n",
       "DataUsageMB        0.1072      0.000    372.391      0.000         0.107     0.108\n",
       "DUActivityDays     4.2890      0.047     90.680      0.000         4.196     4.382\n",
       "cluster          141.9586      4.599     30.869      0.000       132.945   150.972\n",
       "==============================================================================\n",
       "Omnibus:                    39778.464   Durbin-Watson:                   1.992\n",
       "Prob(Omnibus):                  0.000   Jarque-Bera (JB):         18890443.300\n",
       "Skew:                           1.389   Prob(JB):                         0.00\n",
       "Kurtosis:                      82.806   Cond. No.                     2.80e+04\n",
       "==============================================================================\n",
       "\n",
       "Warnings:\n",
       "[1] Standard Errors assume that the covariance matrix of the errors is correctly specified.\n",
       "[2] The condition number is large, 2.8e+04. This might indicate that there are\n",
       "strong multicollinearity or other numerical problems.\n",
       "\"\"\""
      ]
     },
     "execution_count": 183,
     "metadata": {},
     "output_type": "execute_result"
    }
   ],
   "source": [
    "import statsmodels.api as sm\n",
    "X = d5[['DataUsageMB','DUActivityDays','cluster']]\n",
    "y = d5['DataRevenue']\n",
    "\n",
    "## fit a OLS model with intercept on TV and Radio\n",
    "X = sm.add_constant(X)\n",
    "est = sm.OLS(y, X).fit()\n",
    "\n",
    "est.summary()"
   ]
  },
  {
   "cell_type": "code",
   "execution_count": 184,
   "metadata": {
    "collapsed": false
   },
   "outputs": [
    {
     "data": {
      "text/html": [
       "<table class=\"simpletable\">\n",
       "<caption>OLS Regression Results</caption>\n",
       "<tr>\n",
       "  <th>Dep. Variable:</th>       <td>DataRevenue</td>   <th>  R-squared:         </th>  <td>   0.838</td>  \n",
       "</tr>\n",
       "<tr>\n",
       "  <th>Model:</th>                   <td>OLS</td>       <th>  Adj. R-squared:    </th>  <td>   0.838</td>  \n",
       "</tr>\n",
       "<tr>\n",
       "  <th>Method:</th>             <td>Least Squares</td>  <th>  F-statistic:       </th>  <td>3.687e+05</td> \n",
       "</tr>\n",
       "<tr>\n",
       "  <th>Date:</th>             <td>Wed, 22 Mar 2017</td> <th>  Prob (F-statistic):</th>   <td>  0.00</td>   \n",
       "</tr>\n",
       "<tr>\n",
       "  <th>Time:</th>                 <td>14:55:05</td>     <th>  Log-Likelihood:    </th> <td>-4.9590e+05</td>\n",
       "</tr>\n",
       "<tr>\n",
       "  <th>No. Observations:</th>      <td> 71097</td>      <th>  AIC:               </th>  <td>9.918e+05</td> \n",
       "</tr>\n",
       "<tr>\n",
       "  <th>Df Residuals:</th>          <td> 71095</td>      <th>  BIC:               </th>  <td>9.918e+05</td> \n",
       "</tr>\n",
       "<tr>\n",
       "  <th>Df Model:</th>              <td>     1</td>      <th>                     </th>      <td> </td>     \n",
       "</tr>\n",
       "<tr>\n",
       "  <th>Covariance Type:</th>      <td>nonrobust</td>    <th>                     </th>      <td> </td>     \n",
       "</tr>\n",
       "</table>\n",
       "<table class=\"simpletable\">\n",
       "<tr>\n",
       "       <td></td>          <th>coef</th>     <th>std err</th>      <th>t</th>      <th>P>|t|</th> <th>[95.0% Conf. Int.]</th> \n",
       "</tr>\n",
       "<tr>\n",
       "  <th>const</th>       <td>   95.3774</td> <td>    1.121</td> <td>   85.070</td> <td> 0.000</td> <td>   93.180    97.575</td>\n",
       "</tr>\n",
       "<tr>\n",
       "  <th>DataUsageMB</th> <td>    0.1227</td> <td>    0.000</td> <td>  607.223</td> <td> 0.000</td> <td>    0.122     0.123</td>\n",
       "</tr>\n",
       "</table>\n",
       "<table class=\"simpletable\">\n",
       "<tr>\n",
       "  <th>Omnibus:</th>       <td>32009.458</td> <th>  Durbin-Watson:     </th>   <td>   1.919</td>  \n",
       "</tr>\n",
       "<tr>\n",
       "  <th>Prob(Omnibus):</th>  <td> 0.000</td>   <th>  Jarque-Bera (JB):  </th> <td>42257830.364</td>\n",
       "</tr>\n",
       "<tr>\n",
       "  <th>Skew:</th>           <td>-0.569</td>   <th>  Prob(JB):          </th>   <td>    0.00</td>  \n",
       "</tr>\n",
       "<tr>\n",
       "  <th>Kurtosis:</th>       <td>122.430</td>  <th>  Cond. No.          </th>   <td>6.41e+03</td>  \n",
       "</tr>\n",
       "</table>"
      ],
      "text/plain": [
       "<class 'statsmodels.iolib.summary.Summary'>\n",
       "\"\"\"\n",
       "                            OLS Regression Results                            \n",
       "==============================================================================\n",
       "Dep. Variable:            DataRevenue   R-squared:                       0.838\n",
       "Model:                            OLS   Adj. R-squared:                  0.838\n",
       "Method:                 Least Squares   F-statistic:                 3.687e+05\n",
       "Date:                Wed, 22 Mar 2017   Prob (F-statistic):               0.00\n",
       "Time:                        14:55:05   Log-Likelihood:            -4.9590e+05\n",
       "No. Observations:               71097   AIC:                         9.918e+05\n",
       "Df Residuals:                   71095   BIC:                         9.918e+05\n",
       "Df Model:                           1                                         \n",
       "Covariance Type:            nonrobust                                         \n",
       "===============================================================================\n",
       "                  coef    std err          t      P>|t|      [95.0% Conf. Int.]\n",
       "-------------------------------------------------------------------------------\n",
       "const          95.3774      1.121     85.070      0.000        93.180    97.575\n",
       "DataUsageMB     0.1227      0.000    607.223      0.000         0.122     0.123\n",
       "==============================================================================\n",
       "Omnibus:                    32009.458   Durbin-Watson:                   1.919\n",
       "Prob(Omnibus):                  0.000   Jarque-Bera (JB):         42257830.364\n",
       "Skew:                          -0.569   Prob(JB):                         0.00\n",
       "Kurtosis:                     122.430   Cond. No.                     6.41e+03\n",
       "==============================================================================\n",
       "\n",
       "Warnings:\n",
       "[1] Standard Errors assume that the covariance matrix of the errors is correctly specified.\n",
       "[2] The condition number is large, 6.41e+03. This might indicate that there are\n",
       "strong multicollinearity or other numerical problems.\n",
       "\"\"\""
      ]
     },
     "execution_count": 184,
     "metadata": {},
     "output_type": "execute_result"
    }
   ],
   "source": [
    "import statsmodels.api as sm\n",
    "X = d5[['DataUsageMB']]\n",
    "y = d5['DataRevenue']\n",
    "\n",
    "## fit a OLS model with intercept on TV and Radio\n",
    "X = sm.add_constant(X)\n",
    "est = sm.OLS(y, X).fit()\n",
    "\n",
    "est.summary()"
   ]
  },
  {
   "cell_type": "code",
   "execution_count": 185,
   "metadata": {
    "collapsed": false
   },
   "outputs": [
    {
     "data": {
      "text/html": [
       "<table class=\"simpletable\">\n",
       "<caption>OLS Regression Results</caption>\n",
       "<tr>\n",
       "  <th>Dep. Variable:</th>       <td>DataRevenue</td>   <th>  R-squared:         </th>  <td>   0.310</td>  \n",
       "</tr>\n",
       "<tr>\n",
       "  <th>Model:</th>                   <td>OLS</td>       <th>  Adj. R-squared:    </th>  <td>   0.310</td>  \n",
       "</tr>\n",
       "<tr>\n",
       "  <th>Method:</th>             <td>Least Squares</td>  <th>  F-statistic:       </th>  <td>3.196e+04</td> \n",
       "</tr>\n",
       "<tr>\n",
       "  <th>Date:</th>             <td>Wed, 22 Mar 2017</td> <th>  Prob (F-statistic):</th>   <td>  0.00</td>   \n",
       "</tr>\n",
       "<tr>\n",
       "  <th>Time:</th>                 <td>14:55:06</td>     <th>  Log-Likelihood:    </th> <td>-5.4748e+05</td>\n",
       "</tr>\n",
       "<tr>\n",
       "  <th>No. Observations:</th>      <td> 71097</td>      <th>  AIC:               </th>  <td>1.095e+06</td> \n",
       "</tr>\n",
       "<tr>\n",
       "  <th>Df Residuals:</th>          <td> 71095</td>      <th>  BIC:               </th>  <td>1.095e+06</td> \n",
       "</tr>\n",
       "<tr>\n",
       "  <th>Df Model:</th>              <td>     1</td>      <th>                     </th>      <td> </td>     \n",
       "</tr>\n",
       "<tr>\n",
       "  <th>Covariance Type:</th>      <td>nonrobust</td>    <th>                     </th>      <td> </td>     \n",
       "</tr>\n",
       "</table>\n",
       "<table class=\"simpletable\">\n",
       "<tr>\n",
       "         <td></td>           <th>coef</th>     <th>std err</th>      <th>t</th>      <th>P>|t|</th> <th>[95.0% Conf. Int.]</th> \n",
       "</tr>\n",
       "<tr>\n",
       "  <th>const</th>          <td>   44.1201</td> <td>    2.972</td> <td>   14.847</td> <td> 0.000</td> <td>   38.296    49.945</td>\n",
       "</tr>\n",
       "<tr>\n",
       "  <th>DUActivityDays</th> <td>   16.2504</td> <td>    0.091</td> <td>  178.762</td> <td> 0.000</td> <td>   16.072    16.429</td>\n",
       "</tr>\n",
       "</table>\n",
       "<table class=\"simpletable\">\n",
       "<tr>\n",
       "  <th>Omnibus:</th>       <td>90748.826</td> <th>  Durbin-Watson:     </th>   <td>   1.648</td>  \n",
       "</tr>\n",
       "<tr>\n",
       "  <th>Prob(Omnibus):</th>  <td> 0.000</td>   <th>  Jarque-Bera (JB):  </th> <td>41500337.085</td>\n",
       "</tr>\n",
       "<tr>\n",
       "  <th>Skew:</th>           <td> 6.720</td>   <th>  Prob(JB):          </th>   <td>    0.00</td>  \n",
       "</tr>\n",
       "<tr>\n",
       "  <th>Kurtosis:</th>       <td>120.595</td>  <th>  Cond. No.          </th>   <td>    48.5</td>  \n",
       "</tr>\n",
       "</table>"
      ],
      "text/plain": [
       "<class 'statsmodels.iolib.summary.Summary'>\n",
       "\"\"\"\n",
       "                            OLS Regression Results                            \n",
       "==============================================================================\n",
       "Dep. Variable:            DataRevenue   R-squared:                       0.310\n",
       "Model:                            OLS   Adj. R-squared:                  0.310\n",
       "Method:                 Least Squares   F-statistic:                 3.196e+04\n",
       "Date:                Wed, 22 Mar 2017   Prob (F-statistic):               0.00\n",
       "Time:                        14:55:06   Log-Likelihood:            -5.4748e+05\n",
       "No. Observations:               71097   AIC:                         1.095e+06\n",
       "Df Residuals:                   71095   BIC:                         1.095e+06\n",
       "Df Model:                           1                                         \n",
       "Covariance Type:            nonrobust                                         \n",
       "==================================================================================\n",
       "                     coef    std err          t      P>|t|      [95.0% Conf. Int.]\n",
       "----------------------------------------------------------------------------------\n",
       "const             44.1201      2.972     14.847      0.000        38.296    49.945\n",
       "DUActivityDays    16.2504      0.091    178.762      0.000        16.072    16.429\n",
       "==============================================================================\n",
       "Omnibus:                    90748.826   Durbin-Watson:                   1.648\n",
       "Prob(Omnibus):                  0.000   Jarque-Bera (JB):         41500337.085\n",
       "Skew:                           6.720   Prob(JB):                         0.00\n",
       "Kurtosis:                     120.595   Cond. No.                         48.5\n",
       "==============================================================================\n",
       "\n",
       "Warnings:\n",
       "[1] Standard Errors assume that the covariance matrix of the errors is correctly specified.\n",
       "\"\"\""
      ]
     },
     "execution_count": 185,
     "metadata": {},
     "output_type": "execute_result"
    }
   ],
   "source": [
    "import statsmodels.api as sm\n",
    "X = d5[['DUActivityDays']]\n",
    "y = d5['DataRevenue']\n",
    "\n",
    "## fit a OLS model with intercept on TV and Radio\n",
    "X = sm.add_constant(X)\n",
    "est = sm.OLS(y, X).fit()\n",
    "\n",
    "est.summary()"
   ]
  },
  {
   "cell_type": "code",
   "execution_count": 186,
   "metadata": {
    "collapsed": false
   },
   "outputs": [
    {
     "data": {
      "text/html": [
       "<table class=\"simpletable\">\n",
       "<caption>OLS Regression Results</caption>\n",
       "<tr>\n",
       "  <th>Dep. Variable:</th>       <td>DataRevenue</td>   <th>  R-squared:         </th>  <td>   0.468</td>  \n",
       "</tr>\n",
       "<tr>\n",
       "  <th>Model:</th>                   <td>OLS</td>       <th>  Adj. R-squared:    </th>  <td>   0.468</td>  \n",
       "</tr>\n",
       "<tr>\n",
       "  <th>Method:</th>             <td>Least Squares</td>  <th>  F-statistic:       </th>  <td>6.259e+04</td> \n",
       "</tr>\n",
       "<tr>\n",
       "  <th>Date:</th>             <td>Wed, 22 Mar 2017</td> <th>  Prob (F-statistic):</th>   <td>  0.00</td>   \n",
       "</tr>\n",
       "<tr>\n",
       "  <th>Time:</th>                 <td>14:55:06</td>     <th>  Log-Likelihood:    </th> <td>-5.3823e+05</td>\n",
       "</tr>\n",
       "<tr>\n",
       "  <th>No. Observations:</th>      <td> 71097</td>      <th>  AIC:               </th>  <td>1.076e+06</td> \n",
       "</tr>\n",
       "<tr>\n",
       "  <th>Df Residuals:</th>          <td> 71095</td>      <th>  BIC:               </th>  <td>1.076e+06</td> \n",
       "</tr>\n",
       "<tr>\n",
       "  <th>Df Model:</th>              <td>     1</td>      <th>                     </th>      <td> </td>     \n",
       "</tr>\n",
       "<tr>\n",
       "  <th>Covariance Type:</th>      <td>nonrobust</td>    <th>                     </th>      <td> </td>     \n",
       "</tr>\n",
       "</table>\n",
       "<table class=\"simpletable\">\n",
       "<tr>\n",
       "     <td></td>        <th>coef</th>     <th>std err</th>      <th>t</th>      <th>P>|t|</th> <th>[95.0% Conf. Int.]</th> \n",
       "</tr>\n",
       "<tr>\n",
       "  <th>const</th>   <td>  300.0315</td> <td>    1.843</td> <td>  162.832</td> <td> 0.000</td> <td>  296.420   303.643</td>\n",
       "</tr>\n",
       "<tr>\n",
       "  <th>cluster</th> <td> 1560.4477</td> <td>    6.237</td> <td>  250.188</td> <td> 0.000</td> <td> 1548.223  1572.672</td>\n",
       "</tr>\n",
       "</table>\n",
       "<table class=\"simpletable\">\n",
       "<tr>\n",
       "  <th>Omnibus:</th>       <td>89737.791</td> <th>  Durbin-Watson:     </th>   <td>   1.792</td>  \n",
       "</tr>\n",
       "<tr>\n",
       "  <th>Prob(Omnibus):</th>  <td> 0.000</td>   <th>  Jarque-Bera (JB):  </th> <td>57509188.826</td>\n",
       "</tr>\n",
       "<tr>\n",
       "  <th>Skew:</th>           <td> 6.434</td>   <th>  Prob(JB):          </th>   <td>    0.00</td>  \n",
       "</tr>\n",
       "<tr>\n",
       "  <th>Kurtosis:</th>       <td>141.736</td>  <th>  Cond. No.          </th>   <td>    3.57</td>  \n",
       "</tr>\n",
       "</table>"
      ],
      "text/plain": [
       "<class 'statsmodels.iolib.summary.Summary'>\n",
       "\"\"\"\n",
       "                            OLS Regression Results                            \n",
       "==============================================================================\n",
       "Dep. Variable:            DataRevenue   R-squared:                       0.468\n",
       "Model:                            OLS   Adj. R-squared:                  0.468\n",
       "Method:                 Least Squares   F-statistic:                 6.259e+04\n",
       "Date:                Wed, 22 Mar 2017   Prob (F-statistic):               0.00\n",
       "Time:                        14:55:06   Log-Likelihood:            -5.3823e+05\n",
       "No. Observations:               71097   AIC:                         1.076e+06\n",
       "Df Residuals:                   71095   BIC:                         1.076e+06\n",
       "Df Model:                           1                                         \n",
       "Covariance Type:            nonrobust                                         \n",
       "==============================================================================\n",
       "                 coef    std err          t      P>|t|      [95.0% Conf. Int.]\n",
       "------------------------------------------------------------------------------\n",
       "const        300.0315      1.843    162.832      0.000       296.420   303.643\n",
       "cluster     1560.4477      6.237    250.188      0.000      1548.223  1572.672\n",
       "==============================================================================\n",
       "Omnibus:                    89737.791   Durbin-Watson:                   1.792\n",
       "Prob(Omnibus):                  0.000   Jarque-Bera (JB):         57509188.826\n",
       "Skew:                           6.434   Prob(JB):                         0.00\n",
       "Kurtosis:                     141.736   Cond. No.                         3.57\n",
       "==============================================================================\n",
       "\n",
       "Warnings:\n",
       "[1] Standard Errors assume that the covariance matrix of the errors is correctly specified.\n",
       "\"\"\""
      ]
     },
     "execution_count": 186,
     "metadata": {},
     "output_type": "execute_result"
    }
   ],
   "source": [
    "import statsmodels.api as sm\n",
    "X = d5[['cluster']]\n",
    "y = d5['DataRevenue']\n",
    "\n",
    "## fit a OLS model with intercept on TV and Radio\n",
    "X = sm.add_constant(X)\n",
    "est = sm.OLS(y, X).fit()\n",
    "\n",
    "est.summary()"
   ]
  },
  {
   "cell_type": "code",
   "execution_count": 191,
   "metadata": {
    "collapsed": false
   },
   "outputs": [
    {
     "data": {
      "text/html": [
       "<div>\n",
       "<table border=\"1\" class=\"dataframe\">\n",
       "  <thead>\n",
       "    <tr style=\"text-align: right;\">\n",
       "      <th></th>\n",
       "      <th>DataRevenue</th>\n",
       "      <th>DataUsageMB</th>\n",
       "      <th>DUActivityDays</th>\n",
       "      <th>cluster</th>\n",
       "    </tr>\n",
       "  </thead>\n",
       "  <tbody>\n",
       "    <tr>\n",
       "      <th>DataRevenue</th>\n",
       "      <td>1.000000</td>\n",
       "      <td>0.915616</td>\n",
       "      <td>0.556864</td>\n",
       "      <td>0.684256</td>\n",
       "    </tr>\n",
       "    <tr>\n",
       "      <th>DataUsageMB</th>\n",
       "      <td>0.915616</td>\n",
       "      <td>1.000000</td>\n",
       "      <td>0.484113</td>\n",
       "      <td>0.710921</td>\n",
       "    </tr>\n",
       "    <tr>\n",
       "      <th>DUActivityDays</th>\n",
       "      <td>0.556864</td>\n",
       "      <td>0.484113</td>\n",
       "      <td>1.000000</td>\n",
       "      <td>0.361434</td>\n",
       "    </tr>\n",
       "    <tr>\n",
       "      <th>cluster</th>\n",
       "      <td>0.684256</td>\n",
       "      <td>0.710921</td>\n",
       "      <td>0.361434</td>\n",
       "      <td>1.000000</td>\n",
       "    </tr>\n",
       "  </tbody>\n",
       "</table>\n",
       "</div>"
      ],
      "text/plain": [
       "                DataRevenue  DataUsageMB  DUActivityDays   cluster\n",
       "DataRevenue        1.000000     0.915616        0.556864  0.684256\n",
       "DataUsageMB        0.915616     1.000000        0.484113  0.710921\n",
       "DUActivityDays     0.556864     0.484113        1.000000  0.361434\n",
       "cluster            0.684256     0.710921        0.361434  1.000000"
      ]
     },
     "execution_count": 191,
     "metadata": {},
     "output_type": "execute_result"
    }
   ],
   "source": [
    "d5.corr()"
   ]
  }
 ],
 "metadata": {
  "kernelspec": {
   "display_name": "Python 2",
   "language": "python",
   "name": "python2"
  },
  "language_info": {
   "codemirror_mode": {
    "name": "ipython",
    "version": 2
   },
   "file_extension": ".py",
   "mimetype": "text/x-python",
   "name": "python",
   "nbconvert_exporter": "python",
   "pygments_lexer": "ipython2",
   "version": "2.7.13"
  }
 },
 "nbformat": 4,
 "nbformat_minor": 1
}
